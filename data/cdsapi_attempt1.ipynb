{
 "cells": [
  {
   "cell_type": "code",
   "execution_count": 2,
   "id": "13b584c0-4ff0-44e0-94b1-f24bf39a4102",
   "metadata": {},
   "outputs": [
    {
     "name": "stdout",
     "output_type": "stream",
     "text": [
      "Collecting cdsapi\n",
      "  Downloading cdsapi-0.7.0-py2.py3-none-any.whl.metadata (2.7 kB)\n",
      "Collecting cads-api-client>=0.9.2 (from cdsapi)\n",
      "  Downloading cads_api_client-1.1.0-py3-none-any.whl.metadata (16 kB)\n",
      "Requirement already satisfied: requests>=2.5.0 in /opt/anaconda3/lib/python3.11/site-packages (from cdsapi) (2.31.0)\n",
      "Requirement already satisfied: tqdm in /opt/anaconda3/lib/python3.11/site-packages (from cdsapi) (4.65.0)\n",
      "Requirement already satisfied: attrs in /opt/anaconda3/lib/python3.11/site-packages (from cads-api-client>=0.9.2->cdsapi) (23.1.0)\n",
      "Collecting multiurl (from cads-api-client>=0.9.2->cdsapi)\n",
      "  Downloading multiurl-0.3.1.tar.gz (18 kB)\n",
      "  Preparing metadata (setup.py) ... \u001b[?25ldone\n",
      "\u001b[?25hRequirement already satisfied: typing-extensions in /opt/anaconda3/lib/python3.11/site-packages (from cads-api-client>=0.9.2->cdsapi) (4.9.0)\n",
      "Requirement already satisfied: charset-normalizer<4,>=2 in /opt/anaconda3/lib/python3.11/site-packages (from requests>=2.5.0->cdsapi) (2.0.4)\n",
      "Requirement already satisfied: idna<4,>=2.5 in /opt/anaconda3/lib/python3.11/site-packages (from requests>=2.5.0->cdsapi) (3.4)\n",
      "Requirement already satisfied: urllib3<3,>=1.21.1 in /opt/anaconda3/lib/python3.11/site-packages (from requests>=2.5.0->cdsapi) (2.0.7)\n",
      "Requirement already satisfied: certifi>=2017.4.17 in /opt/anaconda3/lib/python3.11/site-packages (from requests>=2.5.0->cdsapi) (2024.6.2)\n",
      "Requirement already satisfied: pytz in /opt/anaconda3/lib/python3.11/site-packages (from multiurl->cads-api-client>=0.9.2->cdsapi) (2023.3.post1)\n",
      "Requirement already satisfied: python-dateutil in /opt/anaconda3/lib/python3.11/site-packages (from multiurl->cads-api-client>=0.9.2->cdsapi) (2.8.2)\n",
      "Requirement already satisfied: six>=1.5 in /opt/anaconda3/lib/python3.11/site-packages (from python-dateutil->multiurl->cads-api-client>=0.9.2->cdsapi) (1.16.0)\n",
      "Downloading cdsapi-0.7.0-py2.py3-none-any.whl (12 kB)\n",
      "Downloading cads_api_client-1.1.0-py3-none-any.whl (20 kB)\n",
      "Building wheels for collected packages: multiurl\n",
      "  Building wheel for multiurl (setup.py) ... \u001b[?25ldone\n",
      "\u001b[?25h  Created wheel for multiurl: filename=multiurl-0.3.1-py3-none-any.whl size=21133 sha256=a2be552225c3cca062f60035f0a2848a1e9ec639b4aaf647d87c997fddf7fb88\n",
      "  Stored in directory: /Users/barretttravis/Library/Caches/pip/wheels/88/54/66/4e1d7b60e01b6f962672d16bc2227061edd0af136327d6f9e4\n",
      "Successfully built multiurl\n",
      "Installing collected packages: multiurl, cads-api-client, cdsapi\n",
      "Successfully installed cads-api-client-1.1.0 cdsapi-0.7.0 multiurl-0.3.1\n",
      "Note: you may need to restart the kernel to use updated packages.\n"
     ]
    }
   ],
   "source": [
    "pip install cdsapi"
   ]
  },
  {
   "cell_type": "code",
   "execution_count": 3,
   "id": "9d1d7940-8e44-44b2-b70b-c395e045dcc7",
   "metadata": {},
   "outputs": [
    {
     "ename": "Exception",
     "evalue": "Missing/incomplete configuration file: /Users/barretttravis/.cdsapirc",
     "output_type": "error",
     "traceback": [
      "\u001b[0;31m---------------------------------------------------------------------------\u001b[0m",
      "\u001b[0;31mException\u001b[0m                                 Traceback (most recent call last)",
      "Cell \u001b[0;32mIn[3], line 3\u001b[0m\n\u001b[1;32m      1\u001b[0m \u001b[38;5;28;01mimport\u001b[39;00m \u001b[38;5;21;01mcdsapi\u001b[39;00m\n\u001b[0;32m----> 3\u001b[0m c \u001b[38;5;241m=\u001b[39m cdsapi\u001b[38;5;241m.\u001b[39mClient()\n\u001b[1;32m      5\u001b[0m c\u001b[38;5;241m.\u001b[39mretrieve(\n\u001b[1;32m      6\u001b[0m     \u001b[38;5;124m'\u001b[39m\u001b[38;5;124mreanalysis-era5-single-levels-monthly-means\u001b[39m\u001b[38;5;124m'\u001b[39m,\n\u001b[1;32m      7\u001b[0m     {\n\u001b[0;32m   (...)\u001b[0m\n\u001b[1;32m     51\u001b[0m     },\n\u001b[1;32m     52\u001b[0m     \u001b[38;5;124m'\u001b[39m\u001b[38;5;124mdownload.grib\u001b[39m\u001b[38;5;124m'\u001b[39m)\n",
      "File \u001b[0;32m/opt/anaconda3/lib/python3.11/site-packages/cdsapi/api.py:281\u001b[0m, in \u001b[0;36mClient.__new__\u001b[0;34m(cls, url, key, *args, **kwargs)\u001b[0m\n\u001b[1;32m    280\u001b[0m \u001b[38;5;28;01mdef\u001b[39;00m \u001b[38;5;21m__new__\u001b[39m(\u001b[38;5;28mcls\u001b[39m, url\u001b[38;5;241m=\u001b[39m\u001b[38;5;28;01mNone\u001b[39;00m, key\u001b[38;5;241m=\u001b[39m\u001b[38;5;28;01mNone\u001b[39;00m, \u001b[38;5;241m*\u001b[39margs, \u001b[38;5;241m*\u001b[39m\u001b[38;5;241m*\u001b[39mkwargs):\n\u001b[0;32m--> 281\u001b[0m     _, token, _ \u001b[38;5;241m=\u001b[39m get_url_key_verify(url, key, \u001b[38;5;28;01mNone\u001b[39;00m)\n\u001b[1;32m    282\u001b[0m     \u001b[38;5;28;01mif\u001b[39;00m \u001b[38;5;124m\"\u001b[39m\u001b[38;5;124m:\u001b[39m\u001b[38;5;124m\"\u001b[39m \u001b[38;5;129;01min\u001b[39;00m token:\n\u001b[1;32m    283\u001b[0m         \u001b[38;5;28;01mreturn\u001b[39;00m \u001b[38;5;28msuper\u001b[39m()\u001b[38;5;241m.\u001b[39m\u001b[38;5;21m__new__\u001b[39m(\u001b[38;5;28mcls\u001b[39m)\n",
      "File \u001b[0;32m/opt/anaconda3/lib/python3.11/site-packages/cdsapi/api.py:69\u001b[0m, in \u001b[0;36mget_url_key_verify\u001b[0;34m(url, key, verify)\u001b[0m\n\u001b[1;32m     66\u001b[0m             verify \u001b[38;5;241m=\u001b[39m \u001b[38;5;28mbool\u001b[39m(\u001b[38;5;28mint\u001b[39m(config\u001b[38;5;241m.\u001b[39mget(\u001b[38;5;124m\"\u001b[39m\u001b[38;5;124mverify\u001b[39m\u001b[38;5;124m\"\u001b[39m, \u001b[38;5;241m1\u001b[39m)))\n\u001b[1;32m     68\u001b[0m \u001b[38;5;28;01mif\u001b[39;00m url \u001b[38;5;129;01mis\u001b[39;00m \u001b[38;5;28;01mNone\u001b[39;00m \u001b[38;5;129;01mor\u001b[39;00m key \u001b[38;5;129;01mis\u001b[39;00m \u001b[38;5;28;01mNone\u001b[39;00m \u001b[38;5;129;01mor\u001b[39;00m key \u001b[38;5;129;01mis\u001b[39;00m \u001b[38;5;28;01mNone\u001b[39;00m:\n\u001b[0;32m---> 69\u001b[0m     \u001b[38;5;28;01mraise\u001b[39;00m \u001b[38;5;167;01mException\u001b[39;00m(\u001b[38;5;124m\"\u001b[39m\u001b[38;5;124mMissing/incomplete configuration file: \u001b[39m\u001b[38;5;132;01m%s\u001b[39;00m\u001b[38;5;124m\"\u001b[39m \u001b[38;5;241m%\u001b[39m (dotrc))\n\u001b[1;32m     71\u001b[0m \u001b[38;5;66;03m# If verify is still None, then we set to default value of True\u001b[39;00m\n\u001b[1;32m     72\u001b[0m \u001b[38;5;28;01mif\u001b[39;00m verify \u001b[38;5;129;01mis\u001b[39;00m \u001b[38;5;28;01mNone\u001b[39;00m:\n",
      "\u001b[0;31mException\u001b[0m: Missing/incomplete configuration file: /Users/barretttravis/.cdsapirc"
     ]
    }
   ],
   "source": [
    "import cdsapi\n",
    "\n",
    "c = cdsapi.Client()\n",
    "\n",
    "c.retrieve(\n",
    "    'reanalysis-era5-single-levels-monthly-means',\n",
    "    {\n",
    "        'format': 'grib',\n",
    "        'product_type': 'monthly_averaged_reanalysis',\n",
    "        'variable': [\n",
    "            '10m_wind_speed', '2m_temperature', 'sea_surface_temperature',\n",
    "        ],\n",
    "        'year': [\n",
    "            '1940', '1941', '1942',\n",
    "            '1943', '1944', '1945',\n",
    "            '1946', '1947', '1948',\n",
    "            '1949', '1950', '1951',\n",
    "            '1952', '1953', '1954',\n",
    "            '1955', '1956', '1957',\n",
    "            '1958', '1959', '1960',\n",
    "            '1961', '1962', '1963',\n",
    "            '1964', '1965', '1966',\n",
    "            '1967', '1968', '1969',\n",
    "            '1970', '1971', '1972',\n",
    "            '1973', '1974', '1975',\n",
    "            '1976', '1977', '1978',\n",
    "            '1979', '1980', '1981',\n",
    "            '1982', '1983', '1984',\n",
    "            '1985', '1986', '1987',\n",
    "            '1988', '1989', '1990',\n",
    "            '1991', '1992', '1993',\n",
    "            '1994', '1995', '1996',\n",
    "            '1997', '1998', '1999',\n",
    "            '2000', '2001', '2002',\n",
    "            '2003', '2004', '2005',\n",
    "            '2006', '2007', '2008',\n",
    "            '2009', '2010', '2011',\n",
    "            '2012', '2013', '2014',\n",
    "            '2015', '2016', '2017',\n",
    "            '2018', '2019', '2020',\n",
    "            '2021', '2022', '2023',\n",
    "            '2024',\n",
    "        ],\n",
    "        'month': [\n",
    "            '01', '02', '03',\n",
    "            '04', '05', '06',\n",
    "            '07', '08', '09',\n",
    "            '10', '11', '12',\n",
    "        ],\n",
    "        'time': '00:00',\n",
    "    },\n",
    "    'download.grib')"
   ]
  },
  {
   "cell_type": "code",
   "execution_count": null,
   "id": "fd204e46-042b-4336-a314-c67fcd7e27b9",
   "metadata": {},
   "outputs": [],
   "source": []
  }
 ],
 "metadata": {
  "kernelspec": {
   "display_name": "Python 3 (ipykernel)",
   "language": "python",
   "name": "python3"
  },
  "language_info": {
   "codemirror_mode": {
    "name": "ipython",
    "version": 3
   },
   "file_extension": ".py",
   "mimetype": "text/x-python",
   "name": "python",
   "nbconvert_exporter": "python",
   "pygments_lexer": "ipython3",
   "version": "3.11.7"
  }
 },
 "nbformat": 4,
 "nbformat_minor": 5
}
